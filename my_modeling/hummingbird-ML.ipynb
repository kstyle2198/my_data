{
 "cells": [
  {
   "cell_type": "markdown",
   "id": "7ba7ad25-1357-4f80-a085-50571a9adeb9",
   "metadata": {},
   "source": [
    "# Microsoft Hummingbird\n",
    "---\n",
    "- Hummingbird is a library for compiling trained traditional ML models into tensor computations. "
   ]
  },
  {
   "cell_type": "code",
   "execution_count": null,
   "id": "acb343a5-8585-47ae-861e-0933aff1bf46",
   "metadata": {},
   "outputs": [],
   "source": []
  },
  {
   "cell_type": "code",
   "execution_count": null,
   "id": "28300dae-de02-4716-99e9-7df534c94f5c",
   "metadata": {},
   "outputs": [],
   "source": []
  },
  {
   "cell_type": "code",
   "execution_count": null,
   "id": "720757d0-399c-4faf-8469-6a16307be509",
   "metadata": {},
   "outputs": [],
   "source": []
  },
  {
   "cell_type": "code",
   "execution_count": null,
   "id": "28d28fe1-cbc1-461a-b2ac-9df9d1c646fe",
   "metadata": {},
   "outputs": [],
   "source": []
  }
 ],
 "metadata": {
  "kernelspec": {
   "display_name": "Python 3 (ipykernel)",
   "language": "python",
   "name": "python3"
  },
  "language_info": {
   "codemirror_mode": {
    "name": "ipython",
    "version": 3
   },
   "file_extension": ".py",
   "mimetype": "text/x-python",
   "name": "python",
   "nbconvert_exporter": "python",
   "pygments_lexer": "ipython3",
   "version": "3.8.13"
  }
 },
 "nbformat": 4,
 "nbformat_minor": 5
}
